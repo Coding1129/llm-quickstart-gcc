{
 "cells": [
  {
   "cell_type": "markdown",
   "id": "29bfae9d-bd3d-4f58-b309-46ebe112e2b1",
   "metadata": {},
   "source": [
    "Pipeline API\n",
    "1. Text Classification\n",
    "    定义：将一段文本自动分配到一个或多个预定义的类别中\n",
    "    分类：Sentiment Analysis、内容分类\n",
    "1.1 Sentiment Analysis\n",
    "   定义：将文本归类为积极或消极\n",
    "   模型介绍：roberta-base-finetuned-dianping-chinese是基于RoBERTa-base（中文版本）的二分类微调模型，专为京东（JD）场景的文本分类任务设计，例如电商评论情感分析（正面/负面）"
   ]
  },
  {
   "cell_type": "code",
   "execution_count": 13,
   "id": "63cad646-a2de-4cb7-8abd-8541e678f840",
   "metadata": {},
   "outputs": [
    {
     "data": {
      "text/plain": [
       "[{'label': 'positive (stars 4 and 5)', 'score': 0.9936730861663818}]"
      ]
     },
     "execution_count": 13,
     "metadata": {},
     "output_type": "execute_result"
    }
   ],
   "source": [
    "import os\n",
    "\n",
    "os.environ['http_proxy'] = 'socks5://127.0.0.1:1080'\n",
    "os.environ['https_proxy'] = 'socks5://127.0.0.1:1080'\n",
    "\n",
    "from transformers import pipeline\n",
    "\n",
    "pipe = pipeline(\n",
    "    task=\"sentiment-analysis\",\n",
    "    model=\"uer/roberta-base-finetuned-jd-binary-chinese\",\n",
    "    device=0  # 自动检测GPU\n",
    ")\n",
    "\n",
    "pipe(\"冰激凌口感非常顺滑，好吃\")"
   ]
  },
  {
   "cell_type": "raw",
   "id": "3e41e340-9dc5-49ff-8616-ed8d1b281935",
   "metadata": {},
   "source": [
    "测试更多示例"
   ]
  },
  {
   "cell_type": "code",
   "execution_count": 4,
   "id": "61a0539f-eb7f-4a8f-b0ec-ffebca33354d",
   "metadata": {},
   "outputs": [
    {
     "data": {
      "text/plain": [
       "[{'label': 'positive (stars 4 and 5)', 'score': 0.5162875056266785}]"
      ]
     },
     "execution_count": 4,
     "metadata": {},
     "output_type": "execute_result"
    }
   ],
   "source": [
    "pipe(\"Tonight's dinner was definitely worth the wait. The eel was cooked very well, and the cauliflower seasoning was also great\")"
   ]
  },
  {
   "cell_type": "markdown",
   "id": "b4cc9df9-5aee-46b1-ab77-950dbc5c4304",
   "metadata": {},
   "source": [
    "在英文文本上，score明显没有那么高，不过判断仍然是正确的，换一个英文句子看看"
   ]
  },
  {
   "cell_type": "code",
   "execution_count": 5,
   "id": "440dd59b-3775-4ed8-be07-5c2b22511964",
   "metadata": {},
   "outputs": [
    {
     "data": {
      "text/plain": [
       "[{'label': 'positive (stars 4 and 5)', 'score': 0.5657778978347778}]"
      ]
     },
     "execution_count": 5,
     "metadata": {},
     "output_type": "execute_result"
    }
   ],
   "source": [
    "pipe(\"The performance has improved compared to before, but the singing atmosphere is clearly lacking, and more exercise is needed\")"
   ]
  },
  {
   "cell_type": "raw",
   "id": "51f18743-b7b7-4398-9b51-2fa64200bc27",
   "metadata": {},
   "source": [
    "替换成中文再试下，表现变得更好了"
   ]
  },
  {
   "cell_type": "code",
   "execution_count": 6,
   "id": "824fbe97-b02d-417e-a38f-417b3597eba3",
   "metadata": {},
   "outputs": [
    {
     "data": {
      "text/plain": [
       "[{'label': 'positive (stars 4 and 5)', 'score': 0.9861974120140076}]"
      ]
     },
     "execution_count": 6,
     "metadata": {},
     "output_type": "execute_result"
    }
   ],
   "source": [
    "pipe(\"表演比以前有进步，但唱歌的气息还有所欠缺，需要多练\")"
   ]
  },
  {
   "cell_type": "markdown",
   "id": "b16290e0-c23d-4419-b8c7-646d74184d5c",
   "metadata": {},
   "source": [
    "批处理调用模型推理："
   ]
  },
  {
   "cell_type": "code",
   "execution_count": 14,
   "id": "ca8576b8-9452-4335-9d46-aaa97fd0041b",
   "metadata": {},
   "outputs": [
    {
     "data": {
      "text/plain": [
       "[{'label': 'positive (stars 4 and 5)', 'score': 0.9937340617179871},\n",
       " {'label': 'negative (stars 1, 2 and 3)', 'score': 0.952104926109314},\n",
       " {'label': 'positive (stars 4 and 5)', 'score': 0.9903604984283447}]"
      ]
     },
     "execution_count": 14,
     "metadata": {},
     "output_type": "execute_result"
    }
   ],
   "source": [
    "text_list = [\n",
    "          \"这本书太引人入胜了，没有华丽的辞藻，却因情感的真挚而直击人心，强烈推荐！\",\n",
    "          \"配送速度太慢，等了很久。包装破损，商品有瑕疵。\",\n",
    "          \"以前从没来过这里，新开的旋转木马、电玩城，这里的一切都非常有趣，我们玩了好久\"]\n",
    "pipe(text_list)"
   ]
  },
  {
   "cell_type": "markdown",
   "id": "0d24cf9e-6fff-4361-85bb-222b01303528",
   "metadata": {},
   "source": [
    "1.2 内容分类\n",
    "    定义：将文本归类为不同的类别，注明标签信息\n",
    "    模型介绍：minirbt-h256-fin-finetuned模型是一个针对金融领域微调的轻量级RoBERTa模型，适用于金融相关的文本分类任务。"
   ]
  },
  {
   "cell_type": "code",
   "execution_count": 9,
   "id": "467e1e15-3183-447d-987e-edf47b6041be",
   "metadata": {},
   "outputs": [
    {
     "name": "stdout",
     "output_type": "stream",
     "text": [
      "[{'label': '股票其他', 'score': 0.9820858240127563}]\n",
      "[{'label': '公募', 'score': 0.9717679619789124}]\n",
      "[{'label': '私募', 'score': 0.9970868229866028}]\n"
     ]
    }
   ],
   "source": [
    "pipe = pipeline(\n",
    "    \"text-classification\",\n",
    "    model=\"minirbt-h256-fin-finetuned\",\n",
    "    top_k=1  # 只返回最可能的 1 个类别\n",
    ")\n",
    "\n",
    "texts_list = [\"公司因涉嫌财务造假被证监会立案调查，股价单日暴跌15%。\",  # 股市信息\n",
    "              \"基金市场迎来重磅新品，首批10只科创债ETF获批。\",  # 公募信息\n",
    "              \"近日,海南、四川、深圳等多个证监局频频出手,对违规私募采取行政监督管理措施\"  # 私募信息\n",
    "              ]\n",
    "results = pipe(texts_list)\n",
    "for result in results:\n",
    "    print(result)"
   ]
  },
  {
   "cell_type": "markdown",
   "id": "b6c98244-9592-47f4-bfb0-98bc36454e1f",
   "metadata": {},
   "source": [
    "分类表现很好"
   ]
  },
  {
   "cell_type": "markdown",
   "id": "5c52877e-1825-4047-911a-6ed26ca83490",
   "metadata": {},
   "source": [
    "2. NLP\n",
    "   定义：旨在让计算机能够理解、解析、生成和响应人类语言（如中文、英文等）\n",
    "   统一步骤：在任何NLP任务中，文本都需预处理为机器能够识别的模式，即文本序列-单个单词或子词（被称为tokens）"
   ]
  },
  {
   "cell_type": "markdown",
   "id": "fac0fc29-c533-4832-88c5-4f7a9d51beb4",
   "metadata": {},
   "source": [
    "2.1 Token Classification\n",
    "    定义：将每个token分配到预定义类别集中的一个标签\n",
    "    分类：命名实体识别（NER），词性标注（POS）\n",
    "2.1.1 NER\n",
    "    定义：将每个token分配到实体集合中的一个标签，例如组织ORG、位置LOC或日期DATE\n",
    "    模型介绍：dslim/bert-base-NER是一个基于BERT模型的命名实体识别（NER）任务微调模型，专为英文文本设计。"
   ]
  },
  {
   "cell_type": "code",
   "execution_count": 70,
   "id": "479ded36-8586-4b94-a8e5-32cf8ed8b5c8",
   "metadata": {},
   "outputs": [
    {
     "name": "stderr",
     "output_type": "stream",
     "text": [
      "Some weights of the model checkpoint at dslim/bert-base-NER were not used when initializing BertForTokenClassification: ['bert.pooler.dense.bias', 'bert.pooler.dense.weight']\n",
      "- This IS expected if you are initializing BertForTokenClassification from the checkpoint of a model trained on another task or with another architecture (e.g. initializing a BertForSequenceClassification model from a BertForPreTraining model).\n",
      "- This IS NOT expected if you are initializing BertForTokenClassification from the checkpoint of a model that you expect to be exactly identical (initializing a BertForSequenceClassification model from a BertForSequenceClassification model).\n"
     ]
    },
    {
     "name": "stdout",
     "output_type": "stream",
     "text": [
      "{'entity': 'B-LOC', 'score': 0.9138909, 'index': 2, 'word': 'Opera', 'start': 4, 'end': 9}\n",
      "{'entity': 'I-LOC', 'score': 0.93788534, 'index': 3, 'word': 'House', 'start': 10, 'end': 15}\n",
      "{'entity': 'B-LOC', 'score': 0.996727, 'index': 7, 'word': 'Sydney', 'start': 30, 'end': 36}\n",
      "{'entity': 'I-LOC', 'score': 0.9992318, 'index': 8, 'word': 'City', 'start': 37, 'end': 41}\n"
     ]
    }
   ],
   "source": [
    "import os\n",
    "\n",
    "os.environ['http_proxy'] = 'http://127.0.0.1:1087'\n",
    "os.environ['https_proxy'] = 'http://127.0.0.1:1087'\n",
    "\n",
    "from transformers import pipeline\n",
    "\n",
    "classifier = pipeline(\n",
    "    \"ner\",\n",
    "    model=\"dslim/bert-base-NER\",\n",
    "    )\n",
    "\n",
    "res = classifier(\"The Opera House is located in Sydney City.\")\n",
    "for pred in res:\n",
    "    print(pred)\n"
   ]
  },
  {
   "cell_type": "markdown",
   "id": "87ad494d-c7b0-45a9-a715-f9fa06d320e1",
   "metadata": {},
   "source": [
    "合并实体"
   ]
  },
  {
   "cell_type": "code",
   "execution_count": 71,
   "id": "ef77791d-b34b-485b-bbc5-2d8ffeeec2fc",
   "metadata": {},
   "outputs": [
    {
     "name": "stderr",
     "output_type": "stream",
     "text": [
      "Some weights of the model checkpoint at dslim/bert-base-NER were not used when initializing BertForTokenClassification: ['bert.pooler.dense.bias', 'bert.pooler.dense.weight']\n",
      "- This IS expected if you are initializing BertForTokenClassification from the checkpoint of a model trained on another task or with another architecture (e.g. initializing a BertForSequenceClassification model from a BertForPreTraining model).\n",
      "- This IS NOT expected if you are initializing BertForTokenClassification from the checkpoint of a model that you expect to be exactly identical (initializing a BertForSequenceClassification model from a BertForSequenceClassification model).\n"
     ]
    },
    {
     "name": "stdout",
     "output_type": "stream",
     "text": [
      "[{'entity_group': 'LOC', 'score': 0.9258881, 'word': 'Opera House', 'start': 4, 'end': 15}, {'entity_group': 'LOC', 'score': 0.9979794, 'word': 'Sydney City', 'start': 30, 'end': 41}]\n"
     ]
    }
   ],
   "source": [
    "classifier = pipeline(\n",
    "    \"ner\",\n",
    "    model=\"dslim/bert-base-NER\",\n",
    "    grouped_entities=True)\n",
    "\n",
    "res = classifier(\"The Opera House is located in Sydney City.\")\n",
    "print(res)"
   ]
  },
  {
   "cell_type": "markdown",
   "id": "aeccb9c5-5552-4acd-8a6d-a2a97ac1a68d",
   "metadata": {},
   "source": [
    "2.1.2 POS\n",
    "    定义：为文本中的每个词汇标注对应的词性，例如名词NOUN、动词VERB、形容词ADJ等\n",
    "    模型介绍：vblagoje/bert-english-uncased-finetuned-pos模型是基于bert模型在小写的英语文本上进行训练微调，主要应用于词性标注任务"
   ]
  },
  {
   "cell_type": "code",
   "execution_count": 8,
   "id": "be89dd2b-156f-4954-8e85-f10a63c9c4b7",
   "metadata": {},
   "outputs": [
    {
     "name": "stderr",
     "output_type": "stream",
     "text": [
      "Some weights of the model checkpoint at /home/cc/model-download-tool/bert-english-uncased-finetuned-pos were not used when initializing BertForTokenClassification: ['bert.pooler.dense.bias', 'bert.pooler.dense.weight']\n",
      "- This IS expected if you are initializing BertForTokenClassification from the checkpoint of a model trained on another task or with another architecture (e.g. initializing a BertForSequenceClassification model from a BertForPreTraining model).\n",
      "- This IS NOT expected if you are initializing BertForTokenClassification from the checkpoint of a model that you expect to be exactly identical (initializing a BertForSequenceClassification model from a BertForSequenceClassification model).\n",
      "Device set to use cuda:0\n"
     ]
    },
    {
     "name": "stdout",
     "output_type": "stream",
     "text": [
      "Token: i, POS: PRON\n",
      "Token: love, POS: VERB\n",
      "Token: natural, POS: ADJ\n",
      "Token: language, POS: NOUN\n",
      "Token: processing, POS: NOUN\n",
      "Token: !, POS: PUNCT\n"
     ]
    }
   ],
   "source": [
    "pos_pipeline = pipeline(\"token-classification\",\n",
    "                        model=\"/home/cc/model-download-tool/bert-english-uncased-finetuned-pos\")\n",
    "\n",
    "text = \"I love natural language processing!\"\n",
    "result = pos_pipeline(text)\n",
    "\n",
    "for token in result:\n",
    "    print(f\"Token: {token['word']}, POS: {token['entity']}\")"
   ]
  },
  {
   "cell_type": "markdown",
   "id": "f0c95973-214c-4429-a0c6-0bce42b4e175",
   "metadata": {},
   "source": [
    "2.2 Question Answering\n",
    "    定义：以问答形式，返回用户问题的答案。其中问题可以带上下文context，也可以不带。\n",
    "    分类：提取式（从上下文直接提取）、总结式（从上下文总结）\n",
    "2.2.1 提取式\n",
    "    模型介绍：bert-base-uncased是BERT模型家族中一个基础规模、不区分大小写的版本，微调后非常适合qa问题，目前仅展示qa用法"
   ]
  },
  {
   "cell_type": "code",
   "execution_count": 25,
   "id": "54948402-88a7-4d26-8f07-ad4238fea98d",
   "metadata": {},
   "outputs": [
    {
     "name": "stderr",
     "output_type": "stream",
     "text": [
      "Some weights of BertForQuestionAnswering were not initialized from the model checkpoint at bert-base-uncased and are newly initialized: ['qa_outputs.bias', 'qa_outputs.weight']\n",
      "You should probably TRAIN this model on a down-stream task to be able to use it for predictions and inference.\n",
      "Device set to use cuda:0\n"
     ]
    },
    {
     "name": "stdout",
     "output_type": "stream",
     "text": [
      "{'score': 0.05258277431130409, 'start': 15, 'end': 23, 'answer': 'Canberra'}\n"
     ]
    }
   ],
   "source": [
    "from transformers import pipeline\n",
    "\n",
    "question_answerer = pipeline(\"question-answering\", model='bert-base-uncased',  device=0)\n",
    "\n",
    "preds = question_answerer(\n",
    "    question=\"Where is the capital of Australia?\",\n",
    "    context=\"The capital is Canberra\",\n",
    ")\n",
    "print(preds)\n"
   ]
  },
  {
   "cell_type": "markdown",
   "id": "5d39bc41-3b54-450c-8373-766d55649dd6",
   "metadata": {},
   "source": [
    "2.2.2 总结式\n",
    "    模型介绍：google/pegasus-xsum 是由 Google 开发的 PEGASUS（Pre-training with Extracted Gap-sentences for Abstractive SUmmarization）模型的一个变体，专门针对摘要生成任务优化。它在摘要领域表现出色，尤其适合生成简明扼要的单句摘要。"
   ]
  },
  {
   "cell_type": "code",
   "execution_count": 1,
   "id": "7da61fcb-5f57-4710-98f1-f2c88888af5e",
   "metadata": {},
   "outputs": [
    {
     "name": "stderr",
     "output_type": "stream",
     "text": [
      "Some weights of PegasusForConditionalGeneration were not initialized from the model checkpoint at /home/cc/model-download-tool/pegasus-xsum and are newly initialized: ['model.decoder.embed_positions.weight', 'model.encoder.embed_positions.weight']\n",
      "You should probably TRAIN this model on a down-stream task to be able to use it for predictions and inference.\n",
      "Device set to use cuda:0\n"
     ]
    },
    {
     "name": "stdout",
     "output_type": "stream",
     "text": [
      "Summary: Parts of the US are baking in a heatwave, with temperatures soaring above 40C (104F) for the fifth consecutive day.\n"
     ]
    }
   ],
   "source": [
    "from transformers import Text2TextGenerationPipeline, AutoModelForSeq2SeqLM, AutoTokenizer\n",
    "\n",
    "# 手动加载模型并移动到 GPU\n",
    "model = AutoModelForSeq2SeqLM.from_pretrained(\"/home/cc/model-download-tool/pegasus-xsum\").to(\"cuda\")\n",
    "tokenizer = AutoTokenizer.from_pretrained(\"/home/cc/model-download-tool/pegasus-xsum\")\n",
    "\n",
    "summarizer = Text2TextGenerationPipeline(model=model, tokenizer=tokenizer, device=0)\n",
    "\n",
    "article = \"\"\"\n",
    "A severe heatwave has gripped the Midwest, with temperatures soaring above 40°C (104°F) for the fifth consecutive day. \n",
    "Local authorities have opened cooling centers in major cities like Chicago and Detroit, urging vulnerable populations \n",
    "to stay hydrated and avoid outdoor activities. The National Weather Service issued an \"extreme heat\" warning, \n",
    "predicting the wave will persist through the weekend. Power grids are under strain as air conditioning usage surges, \n",
    "and officials warn of potential rolling blackouts. Farmers report significant crop damage, exacerbating concerns about \n",
    "this summer's harvest yield.\n",
    "\"\"\"\n",
    "\n",
    "summary = summarizer(\n",
    "    article,\n",
    "    max_length=40,          # 最大长度\n",
    "    min_length=10,       \n",
    "    truncation=True          # 截断\n",
    ")\n",
    "\n",
    "print(\"Summary:\", summary[0]['generated_text'])\n"
   ]
  },
  {
   "cell_type": "markdown",
   "id": "eec12553-3c5e-4443-893f-c8593c7d8f65",
   "metadata": {},
   "source": [
    "2.3 Summarization\n",
    "    定义:文本摘要\n",
    "    分类：提取式（直接提取最重要的）、总结式（总结，可能出现文本中没有的新单词）\n",
    "    模型介绍：facebook-bart-large-cnn 是BART模型系列的一个变体，针对 CNN/DM 数据集（新闻摘要数据集）进行了微调，适用于生成高质量的新闻摘要或长文本的简洁总结。"
   ]
  },
  {
   "cell_type": "markdown",
   "id": "8fa36882-d282-4cf0-8df8-38a7cd49a646",
   "metadata": {},
   "source": [
    "2.3.1 提取式"
   ]
  },
  {
   "cell_type": "code",
   "execution_count": 2,
   "id": "32489988-1456-4bc7-a9a5-e539a665a7b1",
   "metadata": {},
   "outputs": [
    {
     "name": "stderr",
     "output_type": "stream",
     "text": [
      "Device set to use cuda:0\n",
      "Asking to truncate to max_length but no maximum length is provided and the model has no predefined maximum length. Default to no truncation.\n"
     ]
    },
    {
     "name": "stdout",
     "output_type": "stream",
     "text": [
      "US President Trump has set a deadline of 10 days for Russia and Ukraine to reach a peace agreement. If Russia does not make progress on this, it will face new sanctions from the United States. Trump also said that he has not received a response from Russia regarding the deadline he set.\n"
     ]
    }
   ],
   "source": [
    "from transformers import pipeline\n",
    "\n",
    "summarizer = pipeline(\n",
    "    \"summarization\",\n",
    "    model=\"/home/cc/model-download-tool/facebook-bart-large-cnn\",\n",
    "    device=0\n",
    ")\n",
    "\n",
    "article = \"\"\"\n",
    "On the 29th, US President Trump announced that he has set a deadline of 10 days for Russia and Ukraine to reach a peace agreement, starting from that day. If Russia does not make progress on this, it will face new sanctions from the United States.\n",
    "According to Bloomberg and other US media reports, Trump made the above remarks during an interview with accompanying media reporters on the presidential plane \"Air Force One\" on his way back to China, but also stated that it is uncertain whether imposing tariffs and other sanctions will have an effect on Russia.\n",
    "Trump also said that he has not received a response from Russia regarding the deadline he set: \"I haven't received any response yet. It's a pity\n",
    "Before meeting with British Prime Minister Stamer in South Ayrshire, Scotland on the 28th, Trump told reporters present that he was \"very disappointed\" with Russian President Putin and would consider shortening the previously set 50 day deadline for reaching a peace agreement between Russia and Ukraine.\n",
    "Trump threatened on the 14th that if Russia and Ukraine do not reach a peace agreement within 50 days, the United States will impose \"very severe\" tariffs on Russia\n",
    "\"\"\"\n",
    "\n",
    "summary = summarizer(\n",
    "    article,\n",
    "    max_length=130,  # 最大长度\n",
    "    min_length=30,    \n",
    "    do_sample=False,  # 不使用随机采样\n",
    "    truncation=True   # 截断\n",
    ")\n",
    "\n",
    "print(summary[0]['summary_text'])"
   ]
  },
  {
   "cell_type": "markdown",
   "id": "b27bb691-f46c-4c4f-86b6-5a4b255965c3",
   "metadata": {},
   "source": [
    "2.3.2 生成式\n",
    "我们将最小和最大长度都放大一些，看看模型有什么“发挥”"
   ]
  },
  {
   "cell_type": "code",
   "execution_count": 30,
   "id": "12035604-aba3-45da-abfe-0768120f6bc1",
   "metadata": {},
   "outputs": [
    {
     "name": "stderr",
     "output_type": "stream",
     "text": [
      "Device set to use cuda:0\n",
      "Your max_length is set to 200, but your input_length is only 36. Since this is a summarization task, where outputs shorter than the input are typically wanted, you might consider decreasing max_length manually, e.g. summarizer('...', max_length=18)\n",
      "Your max_length is set to 200, but your input_length is only 131. Since this is a summarization task, where outputs shorter than the input are typically wanted, you might consider decreasing max_length manually, e.g. summarizer('...', max_length=65)\n"
     ]
    },
    {
     "name": "stdout",
     "output_type": "stream",
     "text": [
      "Final Summary: US President Trump has set a deadline of 10 days for Russia and Ukraine to reach a peace agreement. If Russia does not make progress on this, it will face new sanctions from the United States. The U.S. is threatening to impose tariffs if the two countries do not agree to a peace deal in 50 days.\n"
     ]
    }
   ],
   "source": [
    "from transformers import SummarizationPipeline, BartTokenizer, BartForConditionalGeneration\n",
    "\n",
    "tokenizer = BartTokenizer.from_pretrained(\"/home/cc/model-download-tool/facebook-bart-large-cnn\")\n",
    "model = BartForConditionalGeneration.from_pretrained(\"/home/cc/model-download-tool/facebook-bart-large-cnn\")\n",
    "\n",
    "# 创建摘要管道\n",
    "summarizer = SummarizationPipeline(model=model, tokenizer=tokenizer, device=0)\n",
    "\n",
    "# 示例文本（假设是一段长文本）\n",
    "text = \"\"\"\n",
    "On the 29th, US President Trump announced that he has set a deadline of 10 days for Russia and Ukraine to reach a peace agreement, starting from that day. If Russia does not make progress on this, it will face new sanctions from the United States.\n",
    "According to Bloomberg and other US media reports, Trump made the above remarks during an interview with accompanying media reporters on the presidential plane \"Air Force One\" on his way back to China, but also stated that it is uncertain whether imposing tariffs and other sanctions will have an effect on Russia.\n",
    "Trump also said that he has not received a response from Russia regarding the deadline he set: \"I haven't received any response yet. It's a pity\n",
    "Before meeting with British Prime Minister Stamer in South Ayrshire, Scotland on the 28th, Trump told reporters present that he was \"very disappointed\" with Russian President Putin and would consider shortening the previously set 50 day deadline for reaching a peace agreement between Russia and Ukraine.\n",
    "Trump threatened on the 14th that if Russia and Ukraine do not reach a peace agreement within 50 days, the United States will impose \"very severe\" tariffs on Russia\n",
    "\"\"\"\n",
    "\n",
    "# 分层摘要函数\n",
    "def hierarchical_summarization(text, max_chunk_size=1024, max_summary_length=200):\n",
    "    # 第一轮摘要：按块处理长文本\n",
    "    chunks = [text[i:i+max_chunk_size] for i in range(0, len(text), max_chunk_size)]\n",
    "    first_level_summaries = []\n",
    "\n",
    "    for chunk in chunks:\n",
    "        summary = summarizer(chunk, max_length=max_summary_length, min_length=60, do_sample=False)\n",
    "        first_level_summaries.append(summary[0][\"summary_text\"])\n",
    "\n",
    "    # 第二轮摘要：对第一轮摘要结果再进行摘要\n",
    "    final_summary = summarizer(\" \".join(first_level_summaries), max_length=max_summary_length, min_length=60, do_sample=False)\n",
    "    return final_summary[0][\"summary_text\"]\n",
    "\n",
    "# 生成最终摘要\n",
    "final_summary = hierarchical_summarization(text)\n",
    "print(\"Final Summary:\", final_summary)"
   ]
  },
  {
   "cell_type": "markdown",
   "id": "2353d952-5e9d-47d7-aeba-07828904021a",
   "metadata": {},
   "source": [
    "缩写U.S在原文中没有出现，但出现在了摘要里"
   ]
  },
  {
   "cell_type": "markdown",
   "id": "f0a74579-c3ab-4fd7-bdd8-d2f66d25f1e8",
   "metadata": {},
   "source": [
    "3. Audio 音频处理任务\n",
    "3.1 Audio classification\n",
    "   定义：音乐分类，包含多种分类情况，例如场景分类、声音识别、特殊声音标记、音乐分类等\n",
    "   模型介绍：m3hrdadfi/wav2vec2-base-100k-gtzan-music-genres模型是基于GTZAN数据集进行训练、微调的模型，用于音乐音频分类，例如判断一段音频是属于蓝调、古典、迪斯科等具体哪种类型。"
   ]
  },
  {
   "cell_type": "code",
   "execution_count": 4,
   "id": "7ca9fc89-92ed-4bac-934d-6ebe5c2cc2a6",
   "metadata": {},
   "outputs": [
    {
     "name": "stderr",
     "output_type": "stream",
     "text": [
      "Some weights of Wav2Vec2ForSequenceClassification were not initialized from the model checkpoint at m3hrdadfi/wav2vec2-base-100k-gtzan-music-genres and are newly initialized: ['classifier.bias', 'classifier.weight', 'projector.bias', 'projector.weight']\n",
      "You should probably TRAIN this model on a down-stream task to be able to use it for predictions and inference.\n",
      "Device set to use cuda:0\n"
     ]
    },
    {
     "name": "stdout",
     "output_type": "stream",
     "text": [
      "[{'score': 0.10450958460569382, 'label': 'hiphop'}, {'score': 0.10338861495256424, 'label': 'jazz'}, {'score': 0.10282450914382935, 'label': 'disco'}, {'score': 0.10169516503810883, 'label': 'metal'}, {'score': 0.10077687352895737, 'label': 'blues'}, {'score': 0.09912458807229996, 'label': 'reggae'}, {'score': 0.0978020578622818, 'label': 'classical'}, {'score': 0.0972946509718895, 'label': 'pop'}, {'score': 0.097104012966156, 'label': 'rock'}, {'score': 0.09547990560531616, 'label': 'country'}]\n"
     ]
    }
   ],
   "source": [
    "classifier = pipeline(\"audio-classification\", model=\"m3hrdadfi/wav2vec2-base-100k-gtzan-music-genres\")\n",
    "\n",
    "result = classifier(\"hiphop-song.wav\")\n",
    "print(result)"
   ]
  },
  {
   "cell_type": "markdown",
   "id": "841b5e62-fda4-49c9-b69d-496fd44825ed",
   "metadata": {},
   "source": [
    "3.2 Automatic speech recognition（ASR）\n",
    "    定义：语音识别\n",
    "    模型介绍：facebook/wav2vec2-base-960h是MetaAI推出的基于自监督学习范式开发的ASR模型，擅长英语语音识别和理解"
   ]
  },
  {
   "cell_type": "code",
   "execution_count": 9,
   "id": "dff4c103-65c9-4dd2-a64e-29bed716159b",
   "metadata": {},
   "outputs": [
    {
     "name": "stderr",
     "output_type": "stream",
     "text": [
      "Some weights of Wav2Vec2ForCTC were not initialized from the model checkpoint at /home/cc/models/asr/facebook-wav2vec2-base-960h and are newly initialized: ['wav2vec2.masked_spec_embed']\n",
      "You should probably TRAIN this model on a down-stream task to be able to use it for predictions and inference.\n",
      "Device set to use cuda:0\n"
     ]
    },
    {
     "name": "stdout",
     "output_type": "stream",
     "text": [
      "many people think that the best way to escape war is to dwell upon its horrors and to imprint them vividly upon the minds of the younger generation they flaunt the grizly photographs before their eyes they fill thereas with tales of garge they dilate upon the inectitude of general and edmiald they denounce the crime and insensave pholic of human strife\n"
     ]
    }
   ],
   "source": [
    "asr_classifier = pipeline(\"automatic-speech-recognition\", model=\"/home/cc/models/asr/facebook-wav2vec2-base-960h\")\n",
    "\n",
    "result = asr_classifier(\"Winston Churchill Nazi Speech.wav\")\n",
    "for k, v in result.items():\n",
    "    print(v.lower())"
   ]
  },
  {
   "cell_type": "markdown",
   "id": "4d2dbaf8-4fb9-4418-b125-85db4485661d",
   "metadata": {},
   "source": [
    "模型介绍：jonatasgrosman/wav2vec2-large-xlsr-53-chinese-zh-cn 是基于Meta AI的跨语言大模型facebook/wav2vec2-large-xlsr-53 微调的中文语音识别（ASR）模型，专为处理中文普通话语音转文本任务优化"
   ]
  },
  {
   "cell_type": "code",
   "execution_count": 10,
   "id": "5579c1f1-33ff-4b63-a150-abd2d4564621",
   "metadata": {},
   "outputs": [
    {
     "name": "stderr",
     "output_type": "stream",
     "text": [
      "/home/cc/.virtualenvs/peft/lib/python3.9/site-packages/transformers/configuration_utils.py:334: UserWarning: Passing `gradient_checkpointing` to a config initialization is deprecated and will be removed in v5 Transformers. Using `model.gradient_checkpointing_enable()` instead, or if you are using the `Trainer` API, pass `gradient_checkpointing=True` in your `TrainingArguments`.\n",
      "  warnings.warn(\n",
      "Device set to use cuda:0\n"
     ]
    },
    {
     "name": "stdout",
     "output_type": "stream",
     "text": [
      "{'text': '其十哀空们也一直想听我唱歌'}\n"
     ]
    }
   ],
   "source": [
    "asr_classifier = pipeline(\"automatic-speech-recognition\", model=\"/home/cc/models/asr/jonatasgrosman-wav2vec2-large-xlsr-53-chinese-zh-cn\")\n",
    "\n",
    "result = asr_classifier('其实爱坤们也一直想听我唱歌.wav')\n",
    "print(result)"
   ]
  },
  {
   "cell_type": "markdown",
   "id": "aa272b6c-a508-4e61-b2b2-44c5ccb2ee70",
   "metadata": {},
   "source": [
    "特殊的词，识别效果不太好"
   ]
  },
  {
   "cell_type": "markdown",
   "id": "a3957372-657a-4ede-9872-46ab3ea1303f",
   "metadata": {},
   "source": [
    "4. Computer Vision 计算机视觉\n",
    "4.1 Image Classificaiton\n",
    "   定义：将整个图像从预定义的类别集合中进行标记\n",
    "   模型介绍：microsoft-resnet-50是微软基于经典的ResNet（残差网络）架构发布的50层版本模型，速度快，适合轻量级的传统视觉任务"
   ]
  },
  {
   "cell_type": "code",
   "execution_count": null,
   "id": "0989795f-6d16-4ca6-a0e9-00ead6daa0f5",
   "metadata": {},
   "outputs": [],
   "source": [
    "![fox.jpg]"
   ]
  },
  {
   "cell_type": "code",
   "execution_count": 15,
   "id": "52afa479-12cb-4835-af61-5f76e4deac45",
   "metadata": {},
   "outputs": [
    {
     "name": "stderr",
     "output_type": "stream",
     "text": [
      "Device set to use cuda:0\n"
     ]
    },
    {
     "name": "stdout",
     "output_type": "stream",
     "text": [
      "kit fox, Vulpes macrotis 0.9977\n",
      "red fox, Vulpes vulpes 0.0016\n",
      "grey fox, gray fox, Urocyon cinereoargenteus 0.0001\n",
      "coyote, prairie wolf, brush wolf, Canis latrans 0.0\n",
      "weasel 0.0\n"
     ]
    }
   ],
   "source": [
    "img_cf_classifier = pipeline(\"image-classification\", model=\"/home/cc/models/image-classification/microsoft-resnet-50\")\n",
    "\n",
    "results = img_cf_classifier('fox.jpg')\n",
    "for result in results:\n",
    "    print(result['label'], round(result['score'], 4))"
   ]
  },
  {
   "cell_type": "raw",
   "id": "77020c1d-8e02-416a-a4f1-2b32489885c0",
   "metadata": {},
   "source": [
    "狐狸，大黄蜂0.9977\n",
    "红狐狸，秃鹫0.0016\n",
    "灰狐、灰狐、银狐0.0001\n",
    "郊狼，草原狼，灌丛狼 0.0\n",
    "黄鼠狼0.0"
   ]
  },
  {
   "cell_type": "markdown",
   "id": "250190dd-d1e3-4a09-8946-a3ebeaa569ae",
   "metadata": {},
   "source": [
    "模型介绍：microsoft/swinv2-tiny-patch4-window16-256是微软基于Transformer（窗口注意力）开发的轻量级视觉Transformer的标杆模型，能更好地平衡精度与效率、支持高分辨率、对复杂任务迁移性好"
   ]
  },
  {
   "cell_type": "code",
   "execution_count": 13,
   "id": "d7156765-ef9b-4509-9586-6dabbdbd9e43",
   "metadata": {},
   "outputs": [
    {
     "name": "stderr",
     "output_type": "stream",
     "text": [
      "Device set to use cuda:0\n"
     ]
    },
    {
     "name": "stdout",
     "output_type": "stream",
     "text": [
      "kit fox, Vulpes macrotis 0.6131\n",
      "red fox, Vulpes vulpes 0.1851\n",
      "grey fox, gray fox, Urocyon cinereoargenteus 0.0058\n",
      "Arctic fox, white fox, Alopex lagopus 0.0012\n",
      "earthstar 0.0009\n"
     ]
    }
   ],
   "source": [
    "img_cf_classifier = pipeline(\"image-classification\", model=\"/home/cc/models/image-classification/microsoft-swinv2-tiny-patch4-window16-256\")\n",
    "\n",
    "results = img_cf_classifier('fox.jpg')\n",
    "for result in results:\n",
    "    print(result['label'], round(result['score'], 4))"
   ]
  },
  {
   "cell_type": "raw",
   "id": "1a17c014-1281-4241-9a4b-830749331eb8",
   "metadata": {},
   "source": [
    "狐狸，大黄蜂 0.6131\n",
    "红狐，赤狐 0.1851\n",
    "灰狐，灰狐，银狐 0.0058\n",
    "北极狐、白狐 0.0012\n",
    "地球之星 0.0009"
   ]
  },
  {
   "cell_type": "markdown",
   "id": "e1706a53-4455-40bb-bbd7-a86a13a7c69d",
   "metadata": {},
   "source": [
    "模型介绍：facebook/deit-base-distilled-patch16-224 是由 Meta开发的基于视觉 Transformer（全局注意力 + 蒸馏）架构，具有分类精度高、全局上下文捕捉强、强泛化能力等特点"
   ]
  },
  {
   "cell_type": "code",
   "execution_count": 12,
   "id": "e06e9613-1e4c-431c-8b5f-f6a6f09720e1",
   "metadata": {},
   "outputs": [
    {
     "name": "stderr",
     "output_type": "stream",
     "text": [
      "Device set to use cuda:0\n"
     ]
    },
    {
     "name": "stdout",
     "output_type": "stream",
     "text": [
      "kit fox, Vulpes macrotis 0.9751\n",
      "red fox, Vulpes vulpes 0.0236\n",
      "grey fox, gray fox, Urocyon cinereoargenteus 0.0\n",
      "Arctic fox, white fox, Alopex lagopus 0.0\n",
      "hamster 0.0\n"
     ]
    }
   ],
   "source": [
    "img_cf_classifier = pipeline(\"image-classification\", model=\"/home/cc/models/image-classification/facebook-deit-base-distilled-patch16-224\")\n",
    "\n",
    "results = img_cf_classifier('fox.jpg')\n",
    "for result in results:\n",
    "    print(result['label'], round(result['score'], 4))  # 保留小数点后4位"
   ]
  },
  {
   "cell_type": "raw",
   "id": "b9b860a8-56c2-40b9-aa2f-97160b734370",
   "metadata": {},
   "source": [
    "狐狸，大黄蜂 0.9751\n",
    "红狐狸，狐狸窝 0.0236\n",
    "灰狐，灰狐，银狐 0.0\n",
    "北极狐、白狐 0.0\n",
    "仓鼠 0.0"
   ]
  },
  {
   "cell_type": "markdown",
   "id": "b17eb98b-2530-4a69-91c3-44f01bc9d230",
   "metadata": {},
   "source": [
    "4.2 Object Detection\n",
    "    定义：识别多个对象在图片中的位置（边框等信息）\n",
    "    模型介绍：OWL-ViT (ViT-Base/Patch32) 是由 Google 开发的零样本目标检测模型，专为开放词汇检测设计，支持通过文本提示（如 “红色汽车”“圆形标志”）直接检测图像中的任意物体。"
   ]
  },
  {
   "cell_type": "markdown",
   "id": "0038eee4-bf4b-445c-bf0c-f3fdaa5397bc",
   "metadata": {},
   "source": [
    "![cat.jpg]"
   ]
  },
  {
   "cell_type": "code",
   "execution_count": 16,
   "id": "92ef56d4-1642-4131-96df-f52e18cf4533",
   "metadata": {},
   "outputs": [
    {
     "name": "stderr",
     "output_type": "stream",
     "text": [
      "Device set to use cuda:0\n"
     ]
    },
    {
     "name": "stdout",
     "output_type": "stream",
     "text": [
      "{'score': 0.11368107050657272, 'label': 'cat', 'box': {'xmin': 159, 'ymin': 116, 'xmax': 969, 'ymax': 1215}}\n"
     ]
    }
   ],
   "source": [
    "obj_dect_classifier = pipeline(\n",
    "    \"zero-shot-object-detection\",  # 零样本检测模型（需输入文本提示指定检测类别）\n",
    "    model=\"/home/cc/models/object-detect/google-owlvit-base-patch32\")\n",
    "\n",
    "candidate_labels = [\"cat\", \"dog\", \"bird\", \"chair\"]\n",
    "\n",
    "results = obj_dect_classifier(\"cat.jpg\", candidate_labels)\n",
    "for result in results:\n",
    "    print(result)"
   ]
  },
  {
   "cell_type": "markdown",
   "id": "e57b4f82-1765-44c3-8fcd-968ec2296340",
   "metadata": {},
   "source": [
    "补充：\n",
    "    模型介绍：yolov8m-table-extraction是YOLOv8的文本表格检测系统，能够快速准确地从复杂背景中识别并定位文档中的文本和表格\n",
    "    ![table.png](attachment:607de77a-65ed-4b15-a576-fc4239388acc.png)"
   ]
  },
  {
   "cell_type": "code",
   "execution_count": null,
   "id": "f16af38c-e9ae-4755-997d-94b4ba5c7c11",
   "metadata": {},
   "outputs": [],
   "source": [
    "from ultralyticsplus import YOLO, render_result\n",
    "\n",
    "model_path = \"/home/cc/models/object-detect/keremberke-yolov8m-table-extraction/best.pt\"\n",
    "model = YOLO(model_path)\n",
    "\n",
    "\n",
    "image = 'table.png'\n",
    "\n",
    "\n",
    "results = model.predict(image)\n",
    "\n",
    "print(results[0].boxes)\n",
    "render = render_result(model=model, image=image, result=results[0])\n",
    "render.show()"
   ]
  },
  {
   "cell_type": "markdown",
   "id": "7a5dd77b-f3a2-4379-a39b-7c2bec8ff3f5",
   "metadata": {},
   "source": [
    "（这里切换了环境，以下是输出）"
   ]
  },
  {
   "attachments": {
    "f3a80f08-4bfe-4e6d-92d0-fe67a7fe4deb.PNG": {
     "image/png": "[encoded data removed]"
    }
   },
   "cell_type": "markdown",
   "id": "6b0ef23e-ba1a-41ce-8502-e8b575df967c",
   "metadata": {},
   "source": [
    "![table_out.PNG](attachment:f3a80f08-4bfe-4e6d-92d0-fe67a7fe4deb.PNG)"
   ]
  }
 ],
 "metadata": {
  "kernelspec": {
   "display_name": "Python 3 (ipykernel)",
   "language": "python",
   "name": "python3"
  },
  "language_info": {
   "codemirror_mode": {
    "name": "ipython",
    "version": 3
   },
   "file_extension": ".py",
   "mimetype": "text/x-python",
   "name": "python",
   "nbconvert_exporter": "python",
   "pygments_lexer": "ipython3",
   "version": "3.9.5"
  }
 },
 "nbformat": 4,
 "nbformat_minor": 5
}
