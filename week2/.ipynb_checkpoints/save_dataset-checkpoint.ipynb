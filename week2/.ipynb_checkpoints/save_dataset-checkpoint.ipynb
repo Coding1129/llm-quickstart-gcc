{
 "cells": [
  {
   "cell_type": "code",
   "execution_count": 1,
   "id": "bcc7c34c-90cb-4adb-b92b-888bd0d2ccbc",
   "metadata": {},
   "outputs": [
    {
     "data": {
      "application/vnd.jupyter.widget-view+json": {
       "model_id": "503777cb5cf044b29e49aeaf970c9f0b",
       "version_major": 2,
       "version_minor": 0
      },
      "text/plain": [
       "Generating train split: 0 examples [00:00, ? examples/s]"
      ]
     },
     "metadata": {},
     "output_type": "display_data"
    },
    {
     "name": "stderr",
     "output_type": "stream",
     "text": [
      "\n",
      "Reading metadata...: 0it [00:00, ?it/s]\u001b[A\n",
      "Reading metadata...: 29056it [00:00, 237945.42it/s]\u001b[A\n"
     ]
    },
    {
     "data": {
      "application/vnd.jupyter.widget-view+json": {
       "model_id": "7b27352bf813491b85b6055f62876110",
       "version_major": 2,
       "version_minor": 0
      },
      "text/plain": [
       "Generating validation split: 0 examples [00:00, ? examples/s]"
      ]
     },
     "metadata": {},
     "output_type": "display_data"
    },
    {
     "name": "stderr",
     "output_type": "stream",
     "text": [
      "\n",
      "Reading metadata...: 10581it [00:00, 460635.54it/s]\n"
     ]
    },
    {
     "data": {
      "application/vnd.jupyter.widget-view+json": {
       "model_id": "4a4e6764ddfc4f2cbac79752f4cf2234",
       "version_major": 2,
       "version_minor": 0
      },
      "text/plain": [
       "Generating test split: 0 examples [00:00, ? examples/s]"
      ]
     },
     "metadata": {},
     "output_type": "display_data"
    },
    {
     "name": "stderr",
     "output_type": "stream",
     "text": [
      "\n",
      "Reading metadata...: 10581it [00:00, 473840.81it/s]\n"
     ]
    },
    {
     "data": {
      "application/vnd.jupyter.widget-view+json": {
       "model_id": "acc5aaf86f1648b5b99728b10e012e2f",
       "version_major": 2,
       "version_minor": 0
      },
      "text/plain": [
       "Generating other split: 0 examples [00:00, ? examples/s]"
      ]
     },
     "metadata": {},
     "output_type": "display_data"
    },
    {
     "name": "stderr",
     "output_type": "stream",
     "text": [
      "\n",
      "Reading metadata...: 0it [00:00, ?it/s]\u001b[A\n",
      "Reading metadata...: 45203it [00:00, 452017.50it/s]\u001b[A\n",
      "Reading metadata...: 90405it [00:00, 448757.26it/s]\u001b[A\n",
      "Reading metadata...: 135379it [00:00, 449191.76it/s]\u001b[A\n",
      "Reading metadata...: 180300it [00:00, 441458.30it/s]\u001b[A\n",
      "Reading metadata...: 224808it [00:00, 442743.47it/s]\u001b[A\n",
      "Reading metadata...: 269534it [00:00, 444257.81it/s]\u001b[A\n",
      "Reading metadata...: 314163it [00:00, 444913.39it/s]\u001b[A\n",
      "Reading metadata...: 358662it [00:00, 436641.93it/s]\u001b[A\n",
      "Reading metadata...: 403582it [00:00, 440503.02it/s]\u001b[A\n",
      "Reading metadata...: 447803it [00:01, 441019.30it/s]\u001b[A\n",
      "Reading metadata...: 491926it [00:01, 440976.44it/s]\u001b[A\n",
      "Reading metadata...: 536039it [00:01, 439787.98it/s]\u001b[A\n",
      "Reading metadata...: 580028it [00:01, 439648.03it/s]\u001b[A\n",
      "Reading metadata...: 624311it [00:01, 440600.10it/s]\u001b[A\n",
      "Reading metadata...: 698486it [00:01, 442036.14it/s]\u001b[A\n"
     ]
    },
    {
     "data": {
      "application/vnd.jupyter.widget-view+json": {
       "model_id": "0972aa5014654d8a802175b3888a1ea0",
       "version_major": 2,
       "version_minor": 0
      },
      "text/plain": [
       "Generating invalidated split: 0 examples [00:00, ? examples/s]"
      ]
     },
     "metadata": {},
     "output_type": "display_data"
    },
    {
     "name": "stderr",
     "output_type": "stream",
     "text": [
      "\n",
      "Reading metadata...: 21302it [00:00, 479190.92it/s]\n"
     ]
    }
   ],
   "source": [
    "from datasets import load_dataset, DatasetDict\n",
    "\n",
    "common_voice = DatasetDict()\n",
    "\n",
    "common_voice[\"train\"] = load_dataset(dataset_name, language_abbr, split=\"train\", trust_remote_code=True)\n",
    "common_voice[\"validation\"] = load_dataset(dataset_name, language_abbr, split=\"validation\", trust_remote_code=True)"
   ]
  },
  {
   "cell_type": "code",
   "execution_count": 2,
   "id": "1d88c0ec-7473-4aec-9509-e32db802061d",
   "metadata": {},
   "outputs": [],
   "source": [
    "from datasets import Audio\n",
    "\n",
    "common_voice = common_voice.cast_column(\"audio\", Audio(sampling_rate=16000))\n",
    "common_voice = common_voice.remove_columns(\n",
    "    [\"accent\", \"age\", \"client_id\", \"down_votes\", \"gender\", \"locale\", \"path\", \"segment\", \"up_votes\"]\n",
    ")  # 移除数据集中不必要的字段\n",
    "common_voice[\"train\"] = common_voice[\"train\"].shuffle(seed=16)\n",
    "common_voice[\"validation\"] = common_voice[\"validation\"].shuffle(seed=16)"
   ]
  },
  {
   "cell_type": "code",
   "execution_count": 7,
   "id": "ee6b6b56-6719-4a48-8d03-1fbbfe877e95",
   "metadata": {},
   "outputs": [
    {
     "name": "stderr",
     "output_type": "stream",
     "text": [
      "Special tokens have been added in the vocabulary, make sure the associated word embeddings are fine-tuned or trained.\n",
      "Special tokens have been added in the vocabulary, make sure the associated word embeddings are fine-tuned or trained.\n"
     ]
    }
   ],
   "source": [
    "from transformers import AutoFeatureExtractor, AutoTokenizer, AutoProcessor\n",
    "model_name_or_path = \"/home/cc/models/asr/whisper-large-v2\"\n",
    "feature_extractor = AutoFeatureExtractor.from_pretrained(model_name_or_path) \n",
    "tokenizer = AutoTokenizer.from_pretrained(model_name_or_path, language=language, task=task)  \n",
    "processor = AutoProcessor.from_pretrained(model_name_or_path, language=language, task=task)  "
   ]
  },
  {
   "cell_type": "code",
   "execution_count": 8,
   "id": "d6333610-11e7-46b2-8708-7958605d51b5",
   "metadata": {},
   "outputs": [
    {
     "data": {
      "application/vnd.jupyter.widget-view+json": {
       "model_id": "59a56cd5450e491aa25eee41deff324e",
       "version_major": 2,
       "version_minor": 0
      },
      "text/plain": [
       "Map:   0%|          | 0/29056 [00:00<?, ? examples/s]"
      ]
     },
     "metadata": {},
     "output_type": "display_data"
    },
    {
     "data": {
      "application/vnd.jupyter.widget-view+json": {
       "model_id": "918603bbe0e748cd84cd382658ef4400",
       "version_major": 2,
       "version_minor": 0
      },
      "text/plain": [
       "Map:   0%|          | 0/10581 [00:00<?, ? examples/s]"
      ]
     },
     "metadata": {},
     "output_type": "display_data"
    },
    {
     "data": {
      "application/vnd.jupyter.widget-view+json": {
       "model_id": "eb2efbbe33fa4b68a040198b86490fac",
       "version_major": 2,
       "version_minor": 0
      },
      "text/plain": [
       "Saving the dataset (0/66 shards):   0%|          | 0/29056 [00:00<?, ? examples/s]"
      ]
     },
     "metadata": {},
     "output_type": "display_data"
    },
    {
     "data": {
      "application/vnd.jupyter.widget-view+json": {
       "model_id": "564a208796b34239aefd4241e056de43",
       "version_major": 2,
       "version_minor": 0
      },
      "text/plain": [
       "Saving the dataset (0/24 shards):   0%|          | 0/10581 [00:00<?, ? examples/s]"
      ]
     },
     "metadata": {},
     "output_type": "display_data"
    },
    {
     "name": "stdout",
     "output_type": "stream",
     "text": [
      "数据集已保存到 ./tokenized_common_voice\n"
     ]
    }
   ],
   "source": [
    "def prepare_dataset(batch):\n",
    "    audio = batch[\"audio\"]\n",
    "    # 截断音频（例如限制最长30秒，根据采样率计算点数：30s * 16000Hz = 480000）\n",
    "    max_audio_length = 480000  # 需与feature_extractor的采样率匹配\n",
    "    audio_array = audio[\"array\"][:max_audio_length]  # 截断音频\n",
    "    # 提取特征时指定最大长度\n",
    "    batch[\"input_features\"] = feature_extractor(\n",
    "        audio_array, \n",
    "        sampling_rate=audio[\"sampling_rate\"],\n",
    "        max_length=max_audio_length,  # 强制音频特征长度\n",
    "        truncation=True  # 超过则截断\n",
    "    ).input_features[0]\n",
    "    \n",
    "    # 截断文本（例如限制最长128个token）\n",
    "    max_text_length = 128\n",
    "    batch[\"labels\"] = tokenizer(\n",
    "        batch[\"sentence\"],\n",
    "        max_length=max_text_length,\n",
    "        truncation=True,  # 超过则截断\n",
    "        padding=\"max_length\"  # 不足则填充\n",
    "    ).input_ids\n",
    "    return batch\n",
    "\n",
    "# 处理数据集\n",
    "tokenized_common_voice = common_voice.map(prepare_dataset)\n",
    "\n",
    "# 定义保存路径\n",
    "save_path = \"./tokenized_common_voice\"\n",
    "\n",
    "# 创建保存目录（如果不存在）\n",
    "os.makedirs(save_path, exist_ok=True)\n",
    "\n",
    "# 保存数据集\n",
    "tokenized_common_voice.save_to_disk(save_path)\n",
    "print(f\"数据集已保存到 {save_path}\")\n"
   ]
  },
  {
   "cell_type": "code",
   "execution_count": null,
   "id": "b4c8d895-dca5-46d8-b3d7-cf6523eac5d4",
   "metadata": {},
   "outputs": [],
   "source": []
  }
 ],
 "metadata": {
  "kernelspec": {
   "display_name": "Python 3 (ipykernel)",
   "language": "python",
   "name": "python3"
  },
  "language_info": {
   "codemirror_mode": {
    "name": "ipython",
    "version": 3
   },
   "file_extension": ".py",
   "mimetype": "text/x-python",
   "name": "python",
   "nbconvert_exporter": "python",
   "pygments_lexer": "ipython3",
   "version": "3.9.5"
  }
 },
 "nbformat": 4,
 "nbformat_minor": 5
}
